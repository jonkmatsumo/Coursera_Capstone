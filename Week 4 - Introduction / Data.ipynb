{
    "cells": [
        {
            "cell_type": "markdown",
            "metadata": {
                "collapsed": true
            },
            "source": "# Data"
        },
        {
            "cell_type": "markdown",
            "metadata": {},
            "source": "For this assignment, we obtained data from two sources. First, the University of Southern California (USC) <a href=\"https://socialinnovation.usc.edu/\">Sol Price Center for Social Change</a> has been working on the following project: Neighborhood Data for Social Change. As part of this project, they have made public a large repository of information, including the following GeoJSON file which was used as the base of the capstone project: https://usc.data.socrata.com/api/geospatial/r8qd-yxsr?method=export&format=GeoJSON\n\nThere were several other sources of data available, including from the Los Angeles Times and Data.gov, which is made available by the U.S. government. They agree on many of the basic neighborhoods, e.g. Hollywood, Koreatown, Santa Monica, etc. But they also differ in how they break down the neighborhoods beyond that. For example, the data from USC identifies the following as part of Hollywood:\n* East Hollywood\n* Hollywood\n* Hollywood Hills\n* Hollywood Hills West\n* North Hollywood\n* West Hollywood\n\nand further distinguishes several neighborhoods like the Fairfax District as being seperate from Hollywood entirely. Some of the other sources were more or less specific in how they broke down Hollywood, but I went with the data from USC because the GeoJSON file has useful information, namely the latitude and longitude of each neighborhood.\n\nFrom this, I will use the Folium library to map 272 key markers, each associated with the coordinates of one of the 272 neighborhoods from our USC data. I then will feed each of these markers into the Foursquare API and build a dataframe using Pandas that will contain all the locations near each marker, i.e. the businesses on Foursquare in each neighborhood. From this, we can do further an"
        },
        {
            "cell_type": "code",
            "execution_count": null,
            "metadata": {},
            "outputs": [],
            "source": ""
        }
    ],
    "metadata": {
        "kernelspec": {
            "display_name": "Python 3.6",
            "language": "python",
            "name": "python3"
        },
        "language_info": {
            "codemirror_mode": {
                "name": "ipython",
                "version": 3
            },
            "file_extension": ".py",
            "mimetype": "text/x-python",
            "name": "python",
            "nbconvert_exporter": "python",
            "pygments_lexer": "ipython3",
            "version": "3.6.9"
        }
    },
    "nbformat": 4,
    "nbformat_minor": 1
}