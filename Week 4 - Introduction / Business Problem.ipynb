{
    "cells": [
        {
            "cell_type": "markdown",
            "metadata": {
                "collapsed": true
            },
            "source": "# Introduction / Business Problem"
        },
        {
            "cell_type": "markdown",
            "metadata": {},
            "source": "## Categorizing Los Angeles neighborhoods.\n\nThe Greater Los Angeles metropolitan area is home to 272 communities, which represent diversity in interests, socioeconomic status, etc. We can expect that the types of businesses in each of these communities will reflect the interests of the people within it. For example, we can expect upscale entertainment services, shopping, and restauraunts in neighborhoods like Beverly Hills or Calabasas. But we would expect to see different types of restauraunts and businesses in neighborhoods like Compton. An aspiring business owner in Los Angeles should take all this into account when deciding where to open a business. The following research project makes an attempt to use data from various sources to better understand this pattern. We will take on the perspective of a few people:\n\n* A yoga instructor who has a line of fitness products that promote an alternative lifestyle. He/she believes her ideal demographic is young (25-34) but professional and college-educated.\n* A family that wants to start a taqueria after spending years working in the service industry. Their goal is to provide an affordable and convenient option to people in their local community (or one similar to it).\n* An entrepreneur who has spent years in the industrial sector, particularly in manufacturing. His/her company specializes in a specific manufacturing process and needs a large warehouse to work out of. They operate in the B2B sector and sell their products "
        },
        {
            "cell_type": "code",
            "execution_count": null,
            "metadata": {},
            "outputs": [],
            "source": ""
        }
    ],
    "metadata": {
        "kernelspec": {
            "display_name": "Python 3.6",
            "language": "python",
            "name": "python3"
        },
        "language_info": {
            "codemirror_mode": {
                "name": "ipython",
                "version": 3
            },
            "file_extension": ".py",
            "mimetype": "text/x-python",
            "name": "python",
            "nbconvert_exporter": "python",
            "pygments_lexer": "ipython3",
            "version": "3.6.9"
        }
    },
    "nbformat": 4,
    "nbformat_minor": 1
}