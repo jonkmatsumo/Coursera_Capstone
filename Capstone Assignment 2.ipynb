{
    "cells": [
        {
            "cell_type": "markdown",
            "metadata": {
                "collapsed": true
            },
            "source": "# Segmenting and Clustering Neighborhoods in Toronto"
        },
        {
            "cell_type": "markdown",
            "metadata": {},
            "source": "### Week 3 Assignment for Applied Data Science Capstone by IBM"
        },
        {
            "cell_type": "markdown",
            "metadata": {},
            "source": "#### Import Libraries"
        },
        {
            "cell_type": "code",
            "execution_count": 1,
            "metadata": {},
            "outputs": [
                {
                    "name": "stdout",
                    "output_type": "stream",
                    "text": "Solving environment: done\n\n## Package Plan ##\n\n  environment location: /opt/conda/envs/Python36\n\n  added / updated specs: \n    - geopy\n\n\nThe following packages will be downloaded:\n\n    package                    |            build\n    ---------------------------|-----------------\n    python_abi-3.6             |          1_cp36m           4 KB  conda-forge\n    certifi-2019.11.28         |   py36h9f0ad1d_1         149 KB  conda-forge\n    ------------------------------------------------------------\n                                           Total:         152 KB\n\nThe following NEW packages will be INSTALLED:\n\n    python_abi: 3.6-1_cp36m       conda-forge\n\nThe following packages will be UPDATED:\n\n    certifi:    2019.11.28-py36_0 conda-forge --> 2019.11.28-py36h9f0ad1d_1 conda-forge\n\n\nDownloading and Extracting Packages\npython_abi-3.6       | 4 KB      | ##################################### | 100% \ncertifi-2019.11.28   | 149 KB    | ##################################### | 100% \nPreparing transaction: done\nVerifying transaction: done\nExecuting transaction: done\nSolving environment: done\n\n# All requested packages already installed.\n\nLibraries imported.\n"
                }
            ],
            "source": "import pandas as pd # library for data analsysis\nimport json # library to handle JSON files\n\n!conda install -c conda-forge geopy --yes \nfrom geopy.geocoders import Nominatim # convert an address into latitude and longitude values\n\nfrom pandas.io.json import json_normalize # tranform JSON file into a pandas dataframe\n\n# Matplotlib and associated plotting modules\nimport matplotlib.cm as cm\nimport matplotlib.colors as colors\n\n# import k-means from clustering stage\nfrom sklearn.cluster import KMeans\n\n# for webscraping import Beautiful Soup \nfrom bs4 import BeautifulSoup\n\nimport xml\n\n!conda install -c conda-forge folium=0.5.0 --yes\nimport folium # map rendering library\n\nprint('Libraries imported.')"
        },
        {
            "cell_type": "markdown",
            "metadata": {},
            "source": "#### Scrape Wikipedia"
        },
        {
            "cell_type": "code",
            "execution_count": null,
            "metadata": {},
            "outputs": [],
            "source": "url = requests.get('https://en.wikipedia.org/wiki/List_of_postal_codes_of_Canada:_M').text\nsoup = BeautifulSoup(url,'lxml')"
        },
        {
            "cell_type": "markdown",
            "metadata": {},
            "source": "#### Identify the table and convert it to a Pandas DataFrame"
        },
        {
            "cell_type": "code",
            "execution_count": null,
            "metadata": {},
            "outputs": [],
            "source": "table_post = soup.find('table')\nfields = table_post.find_all('td')\n\npostcode = []\nborough = []\nneighbourhood = []\n\nfor i in range(0, len(fields), 3):\n    postcode.append(fields[i].text.strip())\n    borough.append(fields[i+1].text.strip())\n    neighbourhood.append(fields[i+2].text.strip())\n        \ndf_pc = pd.DataFrame(data=[postcode, borough, neighbourhood]).transpose()\ndf_pc.columns = ['Postcode', 'Borough', 'Neighbourhood']\ndf_pc.head()"
        },
        {
            "cell_type": "markdown",
            "metadata": {},
            "source": "#### Remove \"Not Assigned\" Neighborhoods\n\"Only process the cells that have an assigned borough. Ignore cells with a borough that is Not assigned.\""
        },
        {
            "cell_type": "code",
            "execution_count": null,
            "metadata": {},
            "outputs": [],
            "source": "df_pc['Borough'].replace('Not assigned', np.nan, inplace=True)\ndf_pc.dropna(subset=['Borough'], inplace=True)\n\ndf_pc.head()"
        },
        {
            "cell_type": "markdown",
            "metadata": {},
            "source": "#### \"Queens Park\" borough has \"Not Assigned\" for its Neighborhood.\n\"If a cell has a borough but a Not assigned neighborhood, then the neighborhood will be the same as the borough.\""
        },
        {
            "cell_type": "code",
            "execution_count": null,
            "metadata": {},
            "outputs": [],
            "source": "df_pcn = df_pc.groupby(['Postcode', 'Borough'])['Neighbourhood'].apply(', '.join).reset_index()\ndf_pcn.columns = ['Postcode', 'Borough', 'Neighbourhood']\ndf_pcn"
        },
        {
            "cell_type": "markdown",
            "metadata": {},
            "source": "#### Visualize our data.\nI did this to make sure that everything looks appropriate."
        },
        {
            "cell_type": "code",
            "execution_count": null,
            "metadata": {},
            "outputs": [],
            "source": "df_geo = pd.read_csv('http://cocl.us/Geospatial_data')\ndf_geo.columns = ['Postcode', 'Latitude', 'Longitude']\n\ndf_pos = pd.merge(df_pcn, df_geo, on=['Postcode'], how='inner')\ndf_tor = df_pos[['Borough', 'Neighbourhood', 'Postcode', 'Latitude', 'Longitude']].copy()\n\ngeolocator = Nominatim()\nlocation = geolocator.geocode(address)\nlatitude = location.latitude\nlongitude = location.longitude\n\nmap_toronto = folium.Map(location=[latitude, longitude], zoom_start=10)\n\nfor lat, lng, borough, neighborhood in zip(df_tor['Latitude'], df_tor['Longitude'], df_tor['Borough'], df_tor['Neighbourhood']):\n    label = '{}, {}'.format(neighborhood, borough)\n    label = folium.Popup(label, parse_html=True)\n    folium.CircleMarker(\n        [lat, lng],\n        radius=3,\n        popup=label,\n        color='green',\n        fill=True,\n        fill_color='#3199cc',\n        fill_opacity=0.3,\n        parse_html=False).add_to(map_toronto)  \n    \nmap_toronto"
        },
        {
            "cell_type": "markdown",
            "metadata": {},
            "source": "\"In the last cell of your notebook, use the .shape method to print the number of rows of your dataframe.\""
        },
        {
            "cell_type": "code",
            "execution_count": null,
            "metadata": {},
            "outputs": [],
            "source": "df_pc.shape"
        }
    ],
    "metadata": {
        "kernelspec": {
            "display_name": "Python 3.6",
            "language": "python",
            "name": "python3"
        },
        "language_info": {
            "codemirror_mode": {
                "name": "ipython",
                "version": 3
            },
            "file_extension": ".py",
            "mimetype": "text/x-python",
            "name": "python",
            "nbconvert_exporter": "python",
            "pygments_lexer": "ipython3",
            "version": "3.6.9"
        }
    },
    "nbformat": 4,
    "nbformat_minor": 1
}